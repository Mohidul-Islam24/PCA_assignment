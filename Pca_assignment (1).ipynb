{
  "nbformat": 4,
  "nbformat_minor": 0,
  "metadata": {
    "colab": {
      "name": "Pca_assignment.ipynb",
      "provenance": []
    },
    "kernelspec": {
      "name": "python3",
      "display_name": "Python 3"
    }
  },
  "cells": [
    {
      "cell_type": "markdown",
      "metadata": {
        "id": "GdHwxfQkpGZY",
        "colab_type": "text"
      },
      "source": [
        "## ** Assignment for week 1 by MOHIDUL ISLAM **"
      ]
    },
    {
      "cell_type": "code",
      "metadata": {
        "id": "jqY9p2j-nlcH",
        "colab_type": "code",
        "colab": {}
      },
      "source": [
        "#importing packages\n",
        "import numpy as np\n",
        "import pandas as pd\n",
        "import matplotlib.pyplot as plt\n",
        "from sklearn.decomposition import PCA\n",
        "from sklearn.preprocessing import StandardScaler\n"
      ],
      "execution_count": 14,
      "outputs": []
    },
    {
      "cell_type": "markdown",
      "metadata": {
        "id": "2MGxs0BCqlMW",
        "colab_type": "text"
      },
      "source": [
        "# Loading data and preprocessing"
      ]
    },
    {
      "cell_type": "code",
      "metadata": {
        "id": "_mnzuCznn7Jz",
        "colab_type": "code",
        "colab": {}
      },
      "source": [
        "data = pd.read_csv('/content/PCA_practice_dataset.csv')\n"
      ],
      "execution_count": 15,
      "outputs": []
    },
    {
      "cell_type": "code",
      "metadata": {
        "id": "7K_zTZmPqvFy",
        "colab_type": "code",
        "colab": {}
      },
      "source": [
        "x = data.to_numpy()"
      ],
      "execution_count": 16,
      "outputs": []
    },
    {
      "cell_type": "code",
      "metadata": {
        "id": "P0GqWWZurXn4",
        "colab_type": "code",
        "colab": {
          "base_uri": "https://localhost:8080/",
          "height": 34
        },
        "outputId": "fb72e771-1731-432b-a836-77fefa6acf9b"
      },
      "source": [
        "x.shape"
      ],
      "execution_count": 17,
      "outputs": [
        {
          "output_type": "execute_result",
          "data": {
            "text/plain": [
              "(8041, 35)"
            ]
          },
          "metadata": {
            "tags": []
          },
          "execution_count": 17
        }
      ]
    },
    {
      "cell_type": "code",
      "metadata": {
        "id": "hUj-tu0MrngY",
        "colab_type": "code",
        "colab": {}
      },
      "source": [
        "scaler = StandardScaler()\n",
        "x = scaler.fit_transform(x)"
      ],
      "execution_count": 18,
      "outputs": []
    },
    {
      "cell_type": "code",
      "metadata": {
        "id": "8WTayh7MsDwh",
        "colab_type": "code",
        "colab": {}
      },
      "source": [
        ""
      ],
      "execution_count": 17,
      "outputs": []
    },
    {
      "cell_type": "markdown",
      "metadata": {
        "id": "GIogGwzLsUBq",
        "colab_type": "text"
      },
      "source": [
        "## **PCA**"
      ]
    },
    {
      "cell_type": "code",
      "metadata": {
        "id": "kwxM9yuAsoNr",
        "colab_type": "code",
        "colab": {}
      },
      "source": [
        "pca = PCA()\n",
        "x= pca.fit_transform(x)"
      ],
      "execution_count": 19,
      "outputs": []
    },
    {
      "cell_type": "code",
      "metadata": {
        "id": "4WVhyOQwtBMv",
        "colab_type": "code",
        "colab": {}
      },
      "source": [
        "#sum of all eigen values for their corresponding eigen vector\n",
        "\n",
        "cum_varienc = np.cumsum(pca.explained_variance_ratio_)*100\n",
        "\n",
        "#list of threshold\n",
        "\n",
        "thresholds = [i for i in range(90,97+1,1)]"
      ],
      "execution_count": 20,
      "outputs": []
    },
    {
      "cell_type": "code",
      "metadata": {
        "id": "7S3XFWzC1Myn",
        "colab_type": "code",
        "colab": {
          "base_uri": "https://localhost:8080/",
          "height": 153
        },
        "outputId": "a927fc8c-dbfd-439f-afbf-357a79aee750"
      },
      "source": [
        "components = [np.argmax(cum_varienc>threshold)for threshold in thresholds]\n",
        "\n",
        "for component,threshold in zip(components,thresholds):\n",
        "  print(\"components required for {}% threshold are: {}\".format(threshold,component))"
      ],
      "execution_count": 21,
      "outputs": [
        {
          "output_type": "stream",
          "text": [
            "components required for 90% threshold are: 2\n",
            "components required for 91% threshold are: 2\n",
            "components required for 92% threshold are: 3\n",
            "components required for 93% threshold are: 3\n",
            "components required for 94% threshold are: 4\n",
            "components required for 95% threshold are: 4\n",
            "components required for 96% threshold are: 5\n",
            "components required for 97% threshold are: 6\n"
          ],
          "name": "stdout"
        }
      ]
    },
    {
      "cell_type": "code",
      "metadata": {
        "id": "KYjP5caN3dxI",
        "colab_type": "code",
        "colab": {}
      },
      "source": [
        ""
      ],
      "execution_count": null,
      "outputs": []
    },
    {
      "cell_type": "markdown",
      "metadata": {
        "id": "kM5sAqBP4Lxa",
        "colab_type": "text"
      },
      "source": [
        "# ploting scree plot using this data"
      ]
    },
    {
      "cell_type": "code",
      "metadata": {
        "id": "SjUkDNK04vgC",
        "colab_type": "code",
        "colab": {
          "base_uri": "https://localhost:8080/",
          "height": 295
        },
        "outputId": "88bc37d9-d464-47ff-c301-c8f7254d5f1c"
      },
      "source": [
        "plt.plot(components,range(90,97+1,1),'ro-',linewidth=2)\n",
        "plt.title(\"Scree plot\")\n",
        "plt.ylabel('threshold in percent')\n",
        "plt.xlabel('principle components')\n",
        "plt.show()"
      ],
      "execution_count": 22,
      "outputs": [
        {
          "output_type": "display_data",
          "data": {
            "image/png": "[encoded data removed]",
            "text/plain": [
              "<Figure size 432x288 with 1 Axes>"
            ]
          },
          "metadata": {
            "tags": [],
            "needs_background": "light"
          }
        }
      ]
    },
    {
      "cell_type": "code",
      "metadata": {
        "id": "ravZiBXe79Xb",
        "colab_type": "code",
        "colab": {}
      },
      "source": [
        ""
      ],
      "execution_count": null,
      "outputs": []
    },
    {
      "cell_type": "markdown",
      "metadata": {
        "id": "gpdsBwqo8Pos",
        "colab_type": "text"
      },
      "source": [
        "## **Performing dimensionality reduction**"
      ]
    },
    {
      "cell_type": "code",
      "metadata": {
        "id": "WzVKt_TB8boE",
        "colab_type": "code",
        "colab": {}
      },
      "source": [
        "x_org = x"
      ],
      "execution_count": 23,
      "outputs": []
    },
    {
      "cell_type": "code",
      "metadata": {
        "id": "B6NRHGD99QUo",
        "colab_type": "code",
        "colab": {
          "base_uri": "https://localhost:8080/",
          "height": 697
        },
        "outputId": "7811565b-209b-4923-9372-980a094afe42"
      },
      "source": [
        "for component,var in zip(components,thresholds):\n",
        "  #passing the number of components \n",
        "  pca = PCA(n_components=component)\n",
        "\n",
        "  #getting reduce dimensionality dataset\n",
        "  x_transformed = pca.fit_transform(x_org)\n",
        "\n",
        "  print(\"performing dimension reduction to retain {}% threshold\".format(var))\n",
        "  print(\"after dimension reduction , shape of data: \",x_transformed.shape)\n",
        "  print(\"\\n\\n\")"
      ],
      "execution_count": 24,
      "outputs": [
        {
          "output_type": "stream",
          "text": [
            "performing dimension reduction to retain 90% threshold\n",
            "after dimension reduction , shape of data:  (8041, 2)\n",
            "\n",
            "\n",
            "\n",
            "performing dimension reduction to retain 91% threshold\n",
            "after dimension reduction , shape of data:  (8041, 2)\n",
            "\n",
            "\n",
            "\n",
            "performing dimension reduction to retain 92% threshold\n",
            "after dimension reduction , shape of data:  (8041, 3)\n",
            "\n",
            "\n",
            "\n",
            "performing dimension reduction to retain 93% threshold\n",
            "after dimension reduction , shape of data:  (8041, 3)\n",
            "\n",
            "\n",
            "\n",
            "performing dimension reduction to retain 94% threshold\n",
            "after dimension reduction , shape of data:  (8041, 4)\n",
            "\n",
            "\n",
            "\n",
            "performing dimension reduction to retain 95% threshold\n",
            "after dimension reduction , shape of data:  (8041, 4)\n",
            "\n",
            "\n",
            "\n",
            "performing dimension reduction to retain 96% threshold\n",
            "after dimension reduction , shape of data:  (8041, 5)\n",
            "\n",
            "\n",
            "\n",
            "performing dimension reduction to retain 97% threshold\n",
            "after dimension reduction , shape of data:  (8041, 6)\n",
            "\n",
            "\n",
            "\n"
          ],
          "name": "stdout"
        }
      ]
    },
    {
      "cell_type": "code",
      "metadata": {
        "id": "N5F19FX--M15",
        "colab_type": "code",
        "colab": {}
      },
      "source": [
        ""
      ],
      "execution_count": null,
      "outputs": []
    }
  ]
}